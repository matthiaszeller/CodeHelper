{
 "cells": [
  {
   "cell_type": "markdown",
   "metadata": {},
   "source": [
    "# Introduction\n",
    "\n",
    "https://doc.qt.io/qt-5/qtest-overview.html#\n",
    "\n",
    "# Create a test\n",
    "\n",
    "1. Subclass QObject\n",
    "1. Add private slots to it (each private slot is a test function)\n",
    "1. `QTest::qExec()` executes all test functions of a test object\n",
    "\n",
    "4 private slots are NOT treated as a test function. \n",
    "\n",
    "* `initTestCase()` called before any test function is executed\n",
    "* `cleanupTestCase()` called after all test functions are executed\n",
    "* `init()` called before each test function is executed\n",
    "* `cleanup()` called after every test function is executed\n",
    "\n",
    "You can declare and define the test class entirely in a `.cpp` file by adding those:\n",
    "\n",
    "    QTEST_MAIN(TestQString)\n",
    "    #include \"testqstring.moc\"\n",
    "    \n"
   ]
  },
  {
   "cell_type": "markdown",
   "metadata": {},
   "source": [
    "# Build a test\n",
    "\n",
    "If using `qmake`, add to the project file:\n",
    "    \n",
    "    QT += testlib\n",
    "    \n"
   ]
  }
 ],
 "metadata": {
  "kernelspec": {
   "display_name": "Python 3",
   "language": "python",
   "name": "python3"
  },
  "language_info": {
   "codemirror_mode": {
    "name": "ipython",
    "version": 3
   },
   "file_extension": ".py",
   "mimetype": "text/x-python",
   "name": "python",
   "nbconvert_exporter": "python",
   "pygments_lexer": "ipython3",
   "version": "3.7.3"
  },
  "toc": {
   "base_numbering": 1,
   "nav_menu": {},
   "number_sections": true,
   "sideBar": true,
   "skip_h1_title": false,
   "title_cell": "Table of Contents",
   "title_sidebar": "Contents",
   "toc_cell": false,
   "toc_position": {},
   "toc_section_display": true,
   "toc_window_display": false
  },
  "varInspector": {
   "cols": {
    "lenName": 16,
    "lenType": 16,
    "lenVar": 40
   },
   "kernels_config": {
    "python": {
     "delete_cmd_postfix": "",
     "delete_cmd_prefix": "del ",
     "library": "var_list.py",
     "varRefreshCmd": "print(var_dic_list())"
    },
    "r": {
     "delete_cmd_postfix": ") ",
     "delete_cmd_prefix": "rm(",
     "library": "var_list.r",
     "varRefreshCmd": "cat(var_dic_list()) "
    }
   },
   "types_to_exclude": [
    "module",
    "function",
    "builtin_function_or_method",
    "instance",
    "_Feature"
   ],
   "window_display": false
  }
 },
 "nbformat": 4,
 "nbformat_minor": 2
}
